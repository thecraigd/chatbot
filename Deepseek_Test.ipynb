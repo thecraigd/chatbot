{
  "nbformat": 4,
  "nbformat_minor": 0,
  "metadata": {
    "colab": {
      "provenance": []
    },
    "kernelspec": {
      "name": "python3",
      "display_name": "Python 3"
    },
    "language_info": {
      "name": "python"
    }
  },
  "cells": [
    {
      "cell_type": "code",
      "source": [
        "from google.colab import userdata\n",
        "import os\n",
        "from openai import OpenAI\n",
        "\n",
        "# Retrieve the API key from Colab's Secrets\n",
        "openai_api_key = userdata.get('DEEPSEEK_API_KEY')\n",
        "\n",
        "if openai_api_key is None:\n",
        "    raise ValueError(\"API key not found. Ensure 'DEEPSEEK_API_KEY' is set in Colab Secrets.\")\n",
        "\n",
        "# Optionally, set the API key as an environment variable\n",
        "os.environ['OPENAI_API_KEY'] = openai_api_key\n",
        "\n",
        "# Initialize the OpenAI client\n",
        "client = OpenAI(api_key=openai_api_key, base_url=\"https://api.deepseek.com\")"
      ],
      "metadata": {
        "id": "CpYmuUKvUT-_"
      },
      "execution_count": 5,
      "outputs": []
    },
    {
      "cell_type": "code",
      "source": [
        "def get_llm_response(prompt):\n",
        "    completion = client.chat.completions.create(\n",
        "        model=\"deepseek-chat\",\n",
        "        messages=[\n",
        "            {\n",
        "                \"role\": \"system\",\n",
        "                \"content\": \"\"\"You are the world's smartest and most talented coder.\n",
        "                You are incredible at explaining python and SQL code and analysing it and identifying bugs.\n",
        "                You have a passion for helping others to see and understand the beauty of code, and you love to help solve programming problems.\"\"\",\n",
        "            },\n",
        "            {\"role\": \"user\", \"content\": prompt},\n",
        "        ],\n",
        "        temperature=0.0, # change this to a value between 0 and 2\n",
        "    )\n",
        "    response = completion.choices[0].message.content\n",
        "    return response"
      ],
      "metadata": {
        "id": "5RhBSJVjRPil"
      },
      "execution_count": 12,
      "outputs": []
    },
    {
      "cell_type": "code",
      "source": [
        "response = get_llm_response(prompt)\n",
        "print(response)"
      ],
      "metadata": {
        "collapsed": true,
        "id": "VFBHOrMzVZjR"
      },
      "execution_count": null,
      "outputs": []
    },
    {
      "cell_type": "code",
      "source": [],
      "metadata": {
        "id": "ctjTPzdbVjwE"
      },
      "execution_count": null,
      "outputs": []
    }
  ]
}